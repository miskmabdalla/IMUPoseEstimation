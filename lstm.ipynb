{
 "cells": [
  {
   "cell_type": "code",
   "execution_count": 1,
   "id": "87c969a1",
   "metadata": {},
   "outputs": [],
   "source": [
    "import os\n",
    "import numpy as np\n",
    "import pandas as pd\n",
    "\n",
    "def align_sequences(X, y):\n",
    "    if X.shape[0] > y.shape[0]:\n",
    "        X = X[:y.shape[0], :]\n",
    "    elif y.shape[0] > X.shape[0]:\n",
    "        delta = y.shape[0] - X.shape[0]\n",
    "        cut_start = delta // 2\n",
    "        cut_end = delta - cut_start\n",
    "        y = y[cut_start: -cut_end if cut_end > 0 else None, :]\n",
    "    return X, y\n",
    "\n",
    "def load_trial_data(imu_trial_folder, angles_file, window_size):\n",
    "    imu_data = []\n",
    "\n",
    "    # Load all IMU CSVs inside trial folder\n",
    "    for fname in sorted(os.listdir(imu_trial_folder)):\n",
    "        if fname.endswith(\".csv\"):\n",
    "            df = pd.read_csv(os.path.join(imu_trial_folder, fname))\n",
    "            imu_data.append(df.values)\n",
    "\n",
    "    if not imu_data:\n",
    "        raise RuntimeError(f\"No IMU files found in {imu_trial_folder}\")\n",
    "\n",
    "    X = np.concatenate(imu_data, axis=1)\n",
    "\n",
    "    y = pd.read_csv(angles_file).values\n",
    "    X, y = align_sequences(X, y)\n",
    "\n",
    "    X_seq, y_seq = [], []\n",
    "    for i in range(len(X) - window_size + 1):\n",
    "        X_seq.append(X[i:i + window_size])\n",
    "        y_seq.append(y[i + window_size - 1])\n",
    "\n",
    "    return np.array(X_seq), np.array(y_seq)"
   ]
  },
  {
   "cell_type": "code",
   "execution_count": 2,
   "id": "8709f56c",
   "metadata": {},
   "outputs": [
    {
     "name": "stdout",
     "output_type": "stream",
     "text": [
      "ModuleSpec(name='torch', loader=<_frozen_importlib_external.SourceFileLoader object at 0x00000208FEC37450>, origin='d:\\\\Misk\\\\masters\\\\.venv\\\\Lib\\\\site-packages\\\\torch\\\\__init__.py', submodule_search_locations=['d:\\\\Misk\\\\masters\\\\.venv\\\\Lib\\\\site-packages\\\\torch'])\n"
     ]
    }
   ],
   "source": [
    "import importlib.util\n",
    "\n",
    "torch_spec = importlib.util.find_spec(\"torch\")\n",
    "print(torch_spec)"
   ]
  },
  {
   "cell_type": "code",
   "execution_count": 3,
   "id": "723a451e",
   "metadata": {},
   "outputs": [
    {
     "name": "stdout",
     "output_type": "stream",
     "text": [
      "Skipping trial_1: all the input array dimensions except for the concatenation axis must match exactly, but along dimension 0, the array at index 0 has size 10178 and the array at index 1 has size 4911\n",
      "Skipping trial_2: all the input array dimensions except for the concatenation axis must match exactly, but along dimension 0, the array at index 0 has size 3820 and the array at index 1 has size 7259\n"
     ]
    },
    {
     "ename": "ValueError",
     "evalue": "need at least one array to concatenate",
     "output_type": "error",
     "traceback": [
      "\u001b[1;31m---------------------------------------------------------------------------\u001b[0m",
      "\u001b[1;31mValueError\u001b[0m                                Traceback (most recent call last)",
      "Cell \u001b[1;32mIn[3], line 39\u001b[0m\n\u001b[0;32m     36\u001b[0m val_ids   \u001b[38;5;241m=\u001b[39m [\u001b[38;5;241m3\u001b[39m]\n\u001b[0;32m     37\u001b[0m test_ids  \u001b[38;5;241m=\u001b[39m [\u001b[38;5;241m4\u001b[39m]\n\u001b[1;32m---> 39\u001b[0m train_dataset \u001b[38;5;241m=\u001b[39m \u001b[43mIMUMultiTrialDataset\u001b[49m\u001b[43m(\u001b[49m\u001b[43mimu_data_root\u001b[49m\u001b[43m,\u001b[49m\u001b[43m \u001b[49m\u001b[43mangles_dir\u001b[49m\u001b[43m,\u001b[49m\u001b[43m \u001b[49m\u001b[43mtrain_ids\u001b[49m\u001b[43m,\u001b[49m\u001b[43m \u001b[49m\u001b[43mwindow_size\u001b[49m\u001b[43m)\u001b[49m\n\u001b[0;32m     40\u001b[0m val_dataset   \u001b[38;5;241m=\u001b[39m IMUMultiTrialDataset(imu_data_root, angles_dir, val_ids, window_size)\n\u001b[0;32m     41\u001b[0m test_dataset  \u001b[38;5;241m=\u001b[39m IMUMultiTrialDataset(imu_data_root, angles_dir, test_ids, window_size)\n",
      "Cell \u001b[1;32mIn[3], line 18\u001b[0m, in \u001b[0;36mIMUMultiTrialDataset.__init__\u001b[1;34m(self, imu_data_root, angles_dir, trial_ids, window_size)\u001b[0m\n\u001b[0;32m     15\u001b[0m     \u001b[38;5;28;01mexcept\u001b[39;00m \u001b[38;5;167;01mException\u001b[39;00m \u001b[38;5;28;01mas\u001b[39;00m e:\n\u001b[0;32m     16\u001b[0m         \u001b[38;5;28mprint\u001b[39m(\u001b[38;5;124mf\u001b[39m\u001b[38;5;124m\"\u001b[39m\u001b[38;5;124mSkipping \u001b[39m\u001b[38;5;132;01m{\u001b[39;00mtrial_name\u001b[38;5;132;01m}\u001b[39;00m\u001b[38;5;124m: \u001b[39m\u001b[38;5;132;01m{\u001b[39;00me\u001b[38;5;132;01m}\u001b[39;00m\u001b[38;5;124m\"\u001b[39m)\n\u001b[1;32m---> 18\u001b[0m \u001b[38;5;28mself\u001b[39m\u001b[38;5;241m.\u001b[39mX \u001b[38;5;241m=\u001b[39m \u001b[43mnp\u001b[49m\u001b[38;5;241;43m.\u001b[39;49m\u001b[43mconcatenate\u001b[49m\u001b[43m(\u001b[49m\u001b[38;5;28;43mself\u001b[39;49m\u001b[38;5;241;43m.\u001b[39;49m\u001b[43mX\u001b[49m\u001b[43m)\u001b[49m\n\u001b[0;32m     19\u001b[0m \u001b[38;5;28mself\u001b[39m\u001b[38;5;241m.\u001b[39my \u001b[38;5;241m=\u001b[39m np\u001b[38;5;241m.\u001b[39mconcatenate(\u001b[38;5;28mself\u001b[39m\u001b[38;5;241m.\u001b[39my)\n",
      "\u001b[1;31mValueError\u001b[0m: need at least one array to concatenate"
     ]
    }
   ],
   "source": [
    "from torch.utils.data import Dataset\n",
    "import torch\n",
    "\n",
    "class IMUMultiTrialDataset(Dataset):\n",
    "    def __init__(self, imu_data_root, angles_dir, trial_ids, window_size):\n",
    "        self.X, self.y = [], []\n",
    "        for trial_id in trial_ids:\n",
    "            try:\n",
    "                trial_name = f\"trial_{trial_id}\"\n",
    "                imu_trial_folder = os.path.join(imu_data_root, trial_name)\n",
    "                angles_file = os.path.join(angles_dir, f\"{trial_name}.csv\")\n",
    "                X_seq, y_seq = load_trial_data(imu_trial_folder, angles_file, window_size)\n",
    "                self.X.append(X_seq)\n",
    "                self.y.append(y_seq)\n",
    "            except Exception as e:\n",
    "                print(f\"Skipping {trial_name}: {e}\")\n",
    "\n",
    "        self.X = np.concatenate(self.X)\n",
    "        self.y = np.concatenate(self.y)\n",
    "\n",
    "    def __len__(self):\n",
    "        return len(self.X)\n",
    "\n",
    "    def __getitem__(self, idx):\n",
    "        return (\n",
    "            torch.tensor(self.X[idx], dtype=torch.float32),\n",
    "            torch.tensor(self.y[idx], dtype=torch.float32)\n",
    "        )\n",
    "\n",
    "imu_data_root = os.path.abspath(\"dataset/imu_data\")\n",
    "angles_dir = os.path.abspath(\"dataset/angles\")\n",
    "window_size = 50\n",
    "\n",
    "# Define splits by trial ID\n",
    "train_ids = [1, 2]\n",
    "val_ids   = [3]\n",
    "test_ids  = [4]\n",
    "\n",
    "train_dataset = IMUMultiTrialDataset(imu_data_root, angles_dir, train_ids, window_size)\n",
    "val_dataset   = IMUMultiTrialDataset(imu_data_root, angles_dir, val_ids, window_size)\n",
    "test_dataset  = IMUMultiTrialDataset(imu_data_root, angles_dir, test_ids, window_size)\n",
    "\n",
    "# Sanity check\n",
    "x0, y0 = train_dataset[0]\n",
    "print(\"Sample input shape:\", x0.shape)\n",
    "print(\"Sample target shape:\", y0.shape)"
   ]
  }
 ],
 "metadata": {
  "kernelspec": {
   "display_name": ".venv",
   "language": "python",
   "name": "python3"
  },
  "language_info": {
   "codemirror_mode": {
    "name": "ipython",
    "version": 3
   },
   "file_extension": ".py",
   "mimetype": "text/x-python",
   "name": "python",
   "nbconvert_exporter": "python",
   "pygments_lexer": "ipython3",
   "version": "3.11.9"
  }
 },
 "nbformat": 4,
 "nbformat_minor": 5
}
