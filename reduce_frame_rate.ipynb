{
  "nbformat": 4,
  "nbformat_minor": 0,
  "metadata": {
    "colab": {
      "provenance": [],
      "authorship_tag": "ABX9TyOm4JcM3IS+kXWNla5OXN71",
      "include_colab_link": true
    },
    "kernelspec": {
      "name": "python3",
      "display_name": "Python 3"
    },
    "language_info": {
      "name": "python"
    }
  },
  "cells": [
    {
      "cell_type": "markdown",
      "metadata": {
        "id": "view-in-github",
        "colab_type": "text"
      },
      "source": [
        "<a href=\"https://colab.research.google.com/github/miskmabdalla/masters/blob/oop-approach/reduce_frame_rate.ipynb\" target=\"_parent\"><img src=\"https://colab.research.google.com/assets/colab-badge.svg\" alt=\"Open In Colab\"/></a>"
      ]
    },
    {
      "cell_type": "code",
      "execution_count": 2,
      "metadata": {
        "id": "hJBBgDJfSeIp"
      },
      "outputs": [],
      "source": [
        "import os\n",
        "import subprocess\n",
        "from pathlib import Path\n",
        "\n",
        "def reduce_fps(input_path, output_path, target_fps=50):\n",
        "    \"\"\"\n",
        "    Reduces video frame rate to `target_fps` using ffmpeg.\n",
        "\n",
        "    Args:\n",
        "        input_path (str | Path): Path to the input video file.\n",
        "        output_path (str | Path): Path to the output video file.\n",
        "        target_fps (int): Target frame rate (default: 50).\n",
        "    \"\"\"\n",
        "    input_path = str(input_path)\n",
        "    output_path = str(output_path)\n",
        "\n",
        "    command = f'ffmpeg -y -i \"{input_path}\" -filter:v fps={target_fps} \"{output_path}\"'\n",
        "    print(f\"▶️ Reducing FPS: {input_path} → {output_path}\")\n",
        "\n",
        "    subprocess.run(command, shell=True, stdout=subprocess.DEVNULL, stderr=subprocess.DEVNULL)\n",
        "\n",
        "def convert_directory_60_to_50fps(input_dir=\"videos_data/60_fps\", output_dir=\"videos_data/50_fps\"):\n",
        "    \"\"\"\n",
        "    Converts all videos in `input_dir` to 50 fps and saves to `output_dir`.\n",
        "\n",
        "    Args:\n",
        "        input_dir (str | Path): Directory containing source 60 fps videos.\n",
        "        output_dir (str | Path): Output directory for 50 fps converted videos.\n",
        "    \"\"\"\n",
        "    input_dir = Path(input_dir)\n",
        "    output_dir = Path(output_dir)\n",
        "    output_dir.mkdir(parents=True, exist_ok=True)\n",
        "\n",
        "    supported_exts = [\".mp4\", \".mov\", \".avi\", \".mkv\", \".webm\"]\n",
        "\n",
        "    for video in input_dir.glob(\"*\"):\n",
        "        if video.suffix.lower() in supported_exts:\n",
        "            output_path = output_dir / video.name\n",
        "            reduce_fps(video, output_path, target_fps=50)\n",
        "\n"
      ]
    },
    {
      "cell_type": "code",
      "source": [
        "convert_directory_60_to_50fps()"
      ],
      "metadata": {
        "colab": {
          "base_uri": "https://localhost:8080/"
        },
        "id": "x4eU8CbnYeK4",
        "outputId": "a6eebbe6-30f4-431c-bc86-33bf82c9cc4d"
      },
      "execution_count": 1,
      "outputs": [
        {
          "output_type": "stream",
          "name": "stdout",
          "text": [
            "/usr/bin/ffmpeg\n"
          ]
        }
      ]
    }
  ]
}